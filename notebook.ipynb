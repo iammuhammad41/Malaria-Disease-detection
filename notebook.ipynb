print('Hello, I'm here in Pycharm!')
